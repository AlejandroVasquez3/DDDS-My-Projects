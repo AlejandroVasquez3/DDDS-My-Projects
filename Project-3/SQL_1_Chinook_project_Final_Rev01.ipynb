{
  "nbformat": 4,
  "nbformat_minor": 0,
  "metadata": {
    "colab": {
      "provenance": [],
      "toc_visible": true,
      "include_colab_link": true
    },
    "kernelspec": {
      "name": "python3",
      "display_name": "Python 3"
    },
    "language_info": {
      "name": "python"
    }
  },
  "cells": [
    {
      "cell_type": "markdown",
      "metadata": {
        "id": "view-in-github",
        "colab_type": "text"
      },
      "source": [
        "<a href=\"https://colab.research.google.com/github/AlejandroVasquez3/DDDS-My-Projects/blob/main/Project-3/SQL_1_Chinook_project_Final_Rev01.ipynb\" target=\"_parent\"><img src=\"https://colab.research.google.com/assets/colab-badge.svg\" alt=\"Open In Colab\"/></a>"
      ]
    },
    {
      "cell_type": "markdown",
      "source": [
        "# Project SQL - Chinook\n"
      ],
      "metadata": {
        "id": "cJG_e1vK2NMI"
      }
    },
    {
      "cell_type": "markdown",
      "source": [
        "## Chinook data set\n",
        "\n",
        "See the lecture on SQLite3 using the Chinook data set to set up the software, database, and tables, as well as for the links to ancillary information about the data set.\n"
      ],
      "metadata": {
        "id": "s6jMcIbW3P5o"
      }
    },
    {
      "cell_type": "code",
      "source": [
        "import sqlite3 as db\n",
        "import pandas as pd\n",
        "import matplotlib.pyplot as plt\n",
        "import seaborn as sns"
      ],
      "metadata": {
        "id": "cjUV1GTB5whn"
      },
      "execution_count": 11,
      "outputs": []
    },
    {
      "cell_type": "code",
      "source": [
        "%%capture\n",
        "%%bash\n",
        "apt-get update\n",
        "apt-get install -y sqlite3"
      ],
      "metadata": {
        "id": "UhFW0uTR6Jfv"
      },
      "execution_count": 12,
      "outputs": []
    },
    {
      "cell_type": "code",
      "source": [
        "%%bash\n",
        "[ -f chinook.zip ] ||\n",
        "  curl -s -O https://www.sqlitetutorial.net/wp-content/uploads/2018/03/chinook.zip\n",
        "unzip -l chinook.zip\n"
      ],
      "metadata": {
        "colab": {
          "base_uri": "https://localhost:8080/"
        },
        "id": "ULVytJCCMQzq",
        "outputId": "9a676607-8b82-4342-acc0-98618cd2cd50"
      },
      "execution_count": 13,
      "outputs": [
        {
          "output_type": "stream",
          "name": "stdout",
          "text": [
            "Archive:  chinook.zip\n",
            "  Length      Date    Time    Name\n",
            "---------  ---------- -----   ----\n",
            "   884736  2015-11-29 10:53   chinook.db\n",
            "---------                     -------\n",
            "   884736                     1 file\n"
          ]
        }
      ]
    },
    {
      "cell_type": "code",
      "source": [
        "!sqlite3 --help"
      ],
      "metadata": {
        "colab": {
          "base_uri": "https://localhost:8080/"
        },
        "id": "UtG_DmNDOWTi",
        "outputId": "a4a5cd36-408e-4f9e-96fb-384ea72b3b80"
      },
      "execution_count": 14,
      "outputs": [
        {
          "output_type": "stream",
          "name": "stdout",
          "text": [
            "Usage: sqlite3 [OPTIONS] FILENAME [SQL]\n",
            "FILENAME is the name of an SQLite database. A new database is created\n",
            "if the file does not previously exist.\n",
            "OPTIONS include:\n",
            "   -A ARGS...           run \".archive ARGS\" and exit\n",
            "   -append              append the database to the end of the file\n",
            "   -ascii               set output mode to 'ascii'\n",
            "   -bail                stop after hitting an error\n",
            "   -batch               force batch I/O\n",
            "   -box                 set output mode to 'box'\n",
            "   -column              set output mode to 'column'\n",
            "   -cmd COMMAND         run \"COMMAND\" before reading stdin\n",
            "   -csv                 set output mode to 'csv'\n",
            "   -deserialize         open the database using sqlite3_deserialize()\n",
            "   -echo                print commands before execution\n",
            "   -init FILENAME       read/process named file\n",
            "   -[no]header          turn headers on or off\n",
            "   -help                show this message\n",
            "   -html                set output mode to HTML\n",
            "   -interactive         force interactive I/O\n",
            "   -json                set output mode to 'json'\n",
            "   -line                set output mode to 'line'\n",
            "   -list                set output mode to 'list'\n",
            "   -lookaside SIZE N    use N entries of SZ bytes for lookaside memory\n",
            "   -markdown            set output mode to 'markdown'\n",
            "   -maxsize N           maximum size for a --deserialize database\n",
            "   -memtrace            trace all memory allocations and deallocations\n",
            "   -mmap N              default mmap size set to N\n",
            "   -newline SEP         set output row separator. Default: '\\n'\n",
            "   -nofollow            refuse to open symbolic links to database files\n",
            "   -nonce STRING        set the safe-mode escape nonce\n",
            "   -nullvalue TEXT      set text string for NULL values. Default ''\n",
            "   -pagecache SIZE N    use N slots of SZ bytes each for page cache memory\n",
            "   -quote               set output mode to 'quote'\n",
            "   -readonly            open the database read-only\n",
            "   -safe                enable safe-mode\n",
            "   -separator SEP       set output column separator. Default: '|'\n",
            "   -stats               print memory stats before each finalize\n",
            "   -table               set output mode to 'table'\n",
            "   -tabs                set output mode to 'tabs'\n",
            "   -version             show SQLite version\n",
            "   -vfs NAME            use NAME as the default VFS\n",
            "   -zip                 open the file as a ZIP Archive\n"
          ]
        }
      ]
    },
    {
      "cell_type": "code",
      "source": [
        "!rm -f chinook.db"
      ],
      "metadata": {
        "id": "NYMfUU1LMZpK"
      },
      "execution_count": 15,
      "outputs": []
    },
    {
      "cell_type": "code",
      "source": [
        "!unzip -u chinook.zip"
      ],
      "metadata": {
        "colab": {
          "base_uri": "https://localhost:8080/"
        },
        "id": "CWk-TqjNMd80",
        "outputId": "be17ea6b-46d1-4aac-beed-cc7d916d2f54"
      },
      "execution_count": 16,
      "outputs": [
        {
          "output_type": "stream",
          "name": "stdout",
          "text": [
            "Archive:  chinook.zip\n",
            "  inflating: chinook.db              \n"
          ]
        }
      ]
    },
    {
      "cell_type": "code",
      "source": [
        "!ls -la"
      ],
      "metadata": {
        "colab": {
          "base_uri": "https://localhost:8080/"
        },
        "id": "jSXnODACMg7y",
        "outputId": "4442804b-bab2-488d-f2c3-d3038934faf3"
      },
      "execution_count": 17,
      "outputs": [
        {
          "output_type": "stream",
          "name": "stdout",
          "text": [
            "total 1180\n",
            "drwxr-xr-x 1 root root   4096 Jul  1 16:35 .\n",
            "drwxr-xr-x 1 root root   4096 Jul  1 16:14 ..\n",
            "-rw-r--r-- 1 root root 884736 Nov 29  2015 chinook.db\n",
            "-rw-r--r-- 1 root root 305596 Jul  1 16:18 chinook.zip\n",
            "drwxr-xr-x 4 root root   4096 Jun 26 13:34 .config\n",
            "drwxr-xr-x 1 root root   4096 Jun 26 13:35 sample_data\n"
          ]
        }
      ]
    },
    {
      "cell_type": "markdown",
      "source": [
        "## Come up with questions about your data\n",
        "Have a look at the Entity-Relation ( ER ) diagram to help come up with questions.\n",
        "\n",
        "* What sort of information is in this dataset?\n",
        "* How many records are there?\n",
        "* How many different countries (states, counties, cities, etc) have records in this data set?\n",
        "\n",
        "\n",
        "If you are stuck, here are some ideas for questions:\n",
        "- https://github.com/LucasMcL/15-sql_queries_02-chinook/blob/master/README.md\n",
        "- [Using the R language]( https://rpubs.com/enext777/636199 )\n",
        "- [Search Google]( https://www.google.com/search?q=chinook+database+questions )\n",
        "\n"
      ],
      "metadata": {
        "id": "OA9Mp38s52x2"
      }
    },
    {
      "cell_type": "markdown",
      "source": [
        "## Use SQL queries to pull specific information\n",
        "\n",
        "Do NOT pull all the data and then filter using DataFrame methods etc. Make sure and use AT LEAST 13 of the 15 SQL options listed below. (You may have to get creative and come up with more questions to ask/answer.)\n"
      ],
      "metadata": {
        "id": "TqvaIfog546s"
      }
    },
    {
      "cell_type": "markdown",
      "source": [
        "### Basic Queries\n"
      ],
      "metadata": {
        "id": "borajWvCtRtl"
      }
    },
    {
      "cell_type": "markdown",
      "source": [
        "# New Section"
      ],
      "metadata": {
        "id": "K4xNlwQHPG9g"
      }
    },
    {
      "cell_type": "code",
      "source": [
        "# Get a list of the tables in the database\n",
        "%%script sqlite3 --column --header chinook.db\n",
        ".tables\n",
        ";"
      ],
      "metadata": {
        "colab": {
          "base_uri": "https://localhost:8080/"
        },
        "id": "W6bHibD7O1vV",
        "outputId": "9bbc4a46-ce68-4645-d66f-9f28e0d009d6"
      },
      "execution_count": 18,
      "outputs": [
        {
          "output_type": "stream",
          "name": "stdout",
          "text": [
            "albums          employees       invoices        playlists     \n",
            "artists         genres          media_types     tracks        \n",
            "customers       invoice_items   playlist_track\n"
          ]
        }
      ]
    },
    {
      "cell_type": "markdown",
      "source": [
        "#### SELECT (with * and with column names)\n"
      ],
      "metadata": {
        "id": "gIEIK51EthwM"
      }
    },
    {
      "cell_type": "code",
      "source": [
        "# Select the first 10 entries from the employees table\n",
        "%%script sqlite3 --column --header chinook.db\n",
        "select *\n",
        "from employees\n",
        "LIMIT 10\n",
        ";"
      ],
      "metadata": {
        "id": "YmICVUnVuBSQ",
        "colab": {
          "base_uri": "https://localhost:8080/"
        },
        "outputId": "9487b95e-9381-44e8-d985-78d6970b713e"
      },
      "execution_count": 19,
      "outputs": [
        {
          "output_type": "stream",
          "name": "stdout",
          "text": [
            "EmployeeId  LastName  FirstName  Title                ReportsTo  BirthDate            HireDate             Address                      City        State  Country  PostalCode  Phone              Fax                Email                   \n",
            "----------  --------  ---------  -------------------  ---------  -------------------  -------------------  ---------------------------  ----------  -----  -------  ----------  -----------------  -----------------  ------------------------\n",
            "1           Adams     Andrew     General Manager                 1962-02-18 00:00:00  2002-08-14 00:00:00  11120 Jasper Ave NW          Edmonton    AB     Canada   T5K 2N1     +1 (780) 428-9482  +1 (780) 428-3457  andrew@chinookcorp.com  \n",
            "2           Edwards   Nancy      Sales Manager        1          1958-12-08 00:00:00  2002-05-01 00:00:00  825 8 Ave SW                 Calgary     AB     Canada   T2P 2T3     +1 (403) 262-3443  +1 (403) 262-3322  nancy@chinookcorp.com   \n",
            "3           Peacock   Jane       Sales Support Agent  2          1973-08-29 00:00:00  2002-04-01 00:00:00  1111 6 Ave SW                Calgary     AB     Canada   T2P 5M5     +1 (403) 262-3443  +1 (403) 262-6712  jane@chinookcorp.com    \n",
            "4           Park      Margaret   Sales Support Agent  2          1947-09-19 00:00:00  2003-05-03 00:00:00  683 10 Street SW             Calgary     AB     Canada   T2P 5G3     +1 (403) 263-4423  +1 (403) 263-4289  margaret@chinookcorp.com\n",
            "5           Johnson   Steve      Sales Support Agent  2          1965-03-03 00:00:00  2003-10-17 00:00:00  7727B 41 Ave                 Calgary     AB     Canada   T3B 1Y7     1 (780) 836-9987   1 (780) 836-9543   steve@chinookcorp.com   \n",
            "6           Mitchell  Michael    IT Manager           1          1973-07-01 00:00:00  2003-10-17 00:00:00  5827 Bowness Road NW         Calgary     AB     Canada   T3B 0C5     +1 (403) 246-9887  +1 (403) 246-9899  michael@chinookcorp.com \n",
            "7           King      Robert     IT Staff             6          1970-05-29 00:00:00  2004-01-02 00:00:00  590 Columbia Boulevard West  Lethbridge  AB     Canada   T1K 5N8     +1 (403) 456-9986  +1 (403) 456-8485  robert@chinookcorp.com  \n",
            "8           Callahan  Laura      IT Staff             6          1968-01-09 00:00:00  2004-03-04 00:00:00  923 7 ST NW                  Lethbridge  AB     Canada   T1H 1Y8     +1 (403) 467-3351  +1 (403) 467-8772  laura@chinookcorp.com   \n"
          ]
        }
      ]
    },
    {
      "cell_type": "code",
      "source": [
        "# Selecting specific Columns from Employee table\n",
        "%%script sqlite3 --column --header chinook.db\n",
        "select EmployeeId, LastName, FirstName, Title, ReportsTo, BirthDate\n",
        "from employees\n",
        ";"
      ],
      "metadata": {
        "id": "8slKgFpsuBCh",
        "colab": {
          "base_uri": "https://localhost:8080/"
        },
        "outputId": "4e0c1e3b-3d9f-4b9d-b73f-41017a98fb88"
      },
      "execution_count": 20,
      "outputs": [
        {
          "output_type": "stream",
          "name": "stdout",
          "text": [
            "EmployeeId  LastName  FirstName  Title                ReportsTo  BirthDate          \n",
            "----------  --------  ---------  -------------------  ---------  -------------------\n",
            "1           Adams     Andrew     General Manager                 1962-02-18 00:00:00\n",
            "2           Edwards   Nancy      Sales Manager        1          1958-12-08 00:00:00\n",
            "3           Peacock   Jane       Sales Support Agent  2          1973-08-29 00:00:00\n",
            "4           Park      Margaret   Sales Support Agent  2          1947-09-19 00:00:00\n",
            "5           Johnson   Steve      Sales Support Agent  2          1965-03-03 00:00:00\n",
            "6           Mitchell  Michael    IT Manager           1          1973-07-01 00:00:00\n",
            "7           King      Robert     IT Staff             6          1970-05-29 00:00:00\n",
            "8           Callahan  Laura      IT Staff             6          1968-01-09 00:00:00\n"
          ]
        }
      ]
    },
    {
      "cell_type": "markdown",
      "source": [
        "#### WHERE\n"
      ],
      "metadata": {
        "id": "dRvXfTGEtkdQ"
      }
    },
    {
      "cell_type": "code",
      "source": [
        "# selcecting where AlbumId Less than or equal to 30\n",
        "%%script sqlite3 --column --header chinook.db\n",
        "select *\n",
        "from albums\n",
        "where AlbumId <= 30\n",
        ";"
      ],
      "metadata": {
        "id": "0oNobfUnt_4Z",
        "colab": {
          "base_uri": "https://localhost:8080/"
        },
        "outputId": "ba77f7be-6a97-4f8e-9968-eef5db4a69d8"
      },
      "execution_count": 21,
      "outputs": [
        {
          "output_type": "stream",
          "name": "stdout",
          "text": [
            "AlbumId  Title                                             ArtistId\n",
            "-------  ------------------------------------------------  --------\n",
            "1        For Those About To Rock We Salute You             1       \n",
            "2        Balls to the Wall                                 2       \n",
            "3        Restless and Wild                                 2       \n",
            "4        Let There Be Rock                                 1       \n",
            "5        Big Ones                                          3       \n",
            "6        Jagged Little Pill                                4       \n",
            "7        Facelift                                          5       \n",
            "8        Warner 25 Anos                                    6       \n",
            "9        Plays Metallica By Four Cellos                    7       \n",
            "10       Audioslave                                        8       \n",
            "11       Out Of Exile                                      8       \n",
            "12       BackBeat Soundtrack                               9       \n",
            "13       The Best Of Billy Cobham                          10      \n",
            "14       Alcohol Fueled Brewtality Live! [Disc 1]          11      \n",
            "15       Alcohol Fueled Brewtality Live! [Disc 2]          11      \n",
            "16       Black Sabbath                                     12      \n",
            "17       Black Sabbath Vol. 4 (Remaster)                   12      \n",
            "18       Body Count                                        13      \n",
            "19       Chemical Wedding                                  14      \n",
            "20       The Best Of Buddy Guy - The Millenium Collection  15      \n",
            "21       Prenda Minha                                      16      \n",
            "22       Sozinho Remix Ao Vivo                             16      \n",
            "23       Minha Historia                                    17      \n",
            "24       Afrociberdelia                                    18      \n",
            "25       Da Lama Ao Caos                                   18      \n",
            "26       Acústico MTV [Live]                               19      \n",
            "27       Cidade Negra - Hits                               19      \n",
            "28       Na Pista                                          20      \n",
            "29       Axé Bahia 2001                                    21      \n",
            "30       BBC Sessions [Disc 1] [Live]                      22      \n"
          ]
        }
      ]
    },
    {
      "cell_type": "markdown",
      "source": [
        "#### AND\n"
      ],
      "metadata": {
        "id": "u5y_3d4GtlqN"
      }
    },
    {
      "cell_type": "code",
      "source": [
        "%%script sqlite3 --column --header chinook.db\n",
        "select *\n",
        "from tracks\n",
        "where GenreId = 1 and AlbumId = 1\n",
        "limit 10\n",
        ";"
      ],
      "metadata": {
        "id": "H1tgAAFtt_Yy",
        "colab": {
          "base_uri": "https://localhost:8080/"
        },
        "outputId": "7a0a857b-31d2-4580-fc14-3ceeeb46ec93"
      },
      "execution_count": 22,
      "outputs": [
        {
          "output_type": "stream",
          "name": "stdout",
          "text": [
            "TrackId  Name                                     AlbumId  MediaTypeId  GenreId  Composer                                   Milliseconds  Bytes     UnitPrice\n",
            "-------  ---------------------------------------  -------  -----------  -------  -----------------------------------------  ------------  --------  ---------\n",
            "1        For Those About To Rock (We Salute You)  1        1            1        Angus Young, Malcolm Young, Brian Johnson  343719        11170334  0.99     \n",
            "6        Put The Finger On You                    1        1            1        Angus Young, Malcolm Young, Brian Johnson  205662        6713451   0.99     \n",
            "7        Let's Get It Up                          1        1            1        Angus Young, Malcolm Young, Brian Johnson  233926        7636561   0.99     \n",
            "8        Inject The Venom                         1        1            1        Angus Young, Malcolm Young, Brian Johnson  210834        6852860   0.99     \n",
            "9        Snowballed                               1        1            1        Angus Young, Malcolm Young, Brian Johnson  203102        6599424   0.99     \n",
            "10       Evil Walks                               1        1            1        Angus Young, Malcolm Young, Brian Johnson  263497        8611245   0.99     \n",
            "11       C.O.D.                                   1        1            1        Angus Young, Malcolm Young, Brian Johnson  199836        6566314   0.99     \n",
            "12       Breaking The Rules                       1        1            1        Angus Young, Malcolm Young, Brian Johnson  263288        8596840   0.99     \n",
            "13       Night Of The Long Knives                 1        1            1        Angus Young, Malcolm Young, Brian Johnson  205688        6706347   0.99     \n",
            "14       Spellbound                               1        1            1        Angus Young, Malcolm Young, Brian Johnson  270863        8817038   0.99     \n"
          ]
        }
      ]
    },
    {
      "cell_type": "markdown",
      "source": [
        "#### OR\n"
      ],
      "metadata": {
        "id": "fddyzEAetnzB"
      }
    },
    {
      "cell_type": "code",
      "source": [
        "%%script sqlite3 --column --header chinook.db\n",
        "select *\n",
        "from tracks\n",
        "where AlbumId = 1 or AlbumId = 2\n",
        ";"
      ],
      "metadata": {
        "id": "HAg8LDQ3t-yr",
        "colab": {
          "base_uri": "https://localhost:8080/"
        },
        "outputId": "87c37c5d-9055-4ecb-ed83-b2b42410b63e"
      },
      "execution_count": 23,
      "outputs": [
        {
          "output_type": "stream",
          "name": "stdout",
          "text": [
            "TrackId  Name                                     AlbumId  MediaTypeId  GenreId  Composer                                   Milliseconds  Bytes     UnitPrice\n",
            "-------  ---------------------------------------  -------  -----------  -------  -----------------------------------------  ------------  --------  ---------\n",
            "1        For Those About To Rock (We Salute You)  1        1            1        Angus Young, Malcolm Young, Brian Johnson  343719        11170334  0.99     \n",
            "6        Put The Finger On You                    1        1            1        Angus Young, Malcolm Young, Brian Johnson  205662        6713451   0.99     \n",
            "7        Let's Get It Up                          1        1            1        Angus Young, Malcolm Young, Brian Johnson  233926        7636561   0.99     \n",
            "8        Inject The Venom                         1        1            1        Angus Young, Malcolm Young, Brian Johnson  210834        6852860   0.99     \n",
            "9        Snowballed                               1        1            1        Angus Young, Malcolm Young, Brian Johnson  203102        6599424   0.99     \n",
            "10       Evil Walks                               1        1            1        Angus Young, Malcolm Young, Brian Johnson  263497        8611245   0.99     \n",
            "11       C.O.D.                                   1        1            1        Angus Young, Malcolm Young, Brian Johnson  199836        6566314   0.99     \n",
            "12       Breaking The Rules                       1        1            1        Angus Young, Malcolm Young, Brian Johnson  263288        8596840   0.99     \n",
            "13       Night Of The Long Knives                 1        1            1        Angus Young, Malcolm Young, Brian Johnson  205688        6706347   0.99     \n",
            "14       Spellbound                               1        1            1        Angus Young, Malcolm Young, Brian Johnson  270863        8817038   0.99     \n",
            "2        Balls to the Wall                        2        2            1                                                   342562        5510424   0.99     \n"
          ]
        }
      ]
    },
    {
      "cell_type": "markdown",
      "source": [
        "#### LIKE (with % or _ wildcard)\n"
      ],
      "metadata": {
        "id": "-csoeatGtpRq"
      }
    },
    {
      "cell_type": "code",
      "source": [
        "%%script sqlite3 --column --header chinook.db\n",
        "select *\n",
        "from tracks\n",
        "where name LIKE '%H'\n",
        "limit 10\n",
        ";"
      ],
      "metadata": {
        "id": "UB3EyaRRt9ki",
        "colab": {
          "base_uri": "https://localhost:8080/"
        },
        "outputId": "0fd00193-b666-4e86-d39f-10775fea4f92"
      },
      "execution_count": 24,
      "outputs": [
        {
          "output_type": "stream",
          "name": "stdout",
          "text": [
            "TrackId  Name                 AlbumId  MediaTypeId  GenreId  Composer                                      Milliseconds  Bytes     UnitPrice\n",
            "-------  -------------------  -------  -----------  -------  --------------------------------------------  ------------  --------  ---------\n",
            "35       Eat The Rich         5        1            1        Steven Tyler, Joe Perry, Jim Vallance         251036        8262039   0.99     \n",
            "82       Creeping Death       9        1            3        Apocalyptica                                  308035        10110980  0.99     \n",
            "133      Stronger Than Death  14       1            3                                                      300747        9869647   0.99     \n",
            "149      Black Sabbath        16       1            3                                                      382066        12440200  0.99     \n",
            "173      KKK Bitch            18       1            4                                                      173008        5709631   0.99     \n",
            "178      Oprah                18       1            4                                                      6635          224313    0.99     \n",
            "182      Freedom Of Speech    18       1            4                                                      281234        9337917   0.99     \n",
            "450      Beth                 37       1            1        S. Penridge, Bob Ezrin, Peter Criss           166974        5360574   0.99     \n",
            "476      Geek Stink Breath    39       1            4        Billie Joe Armstrong -Words Green Day -Music  135888        4408983   0.99     \n",
            "574      Smooth               46       1            1        M. Itaal Shur & Rob Thomas                    298161        9867455   0.99     \n"
          ]
        }
      ]
    },
    {
      "cell_type": "markdown",
      "source": [
        "#### BETWEEN\n"
      ],
      "metadata": {
        "id": "BV8kQ-9FtqGY"
      }
    },
    {
      "cell_type": "code",
      "source": [
        "%%script sqlite3 --column --header chinook.db\n",
        "SELECT *\n",
        "FROM tracks\n",
        "WHERE Bytes BETWEEN 1000000 and 2000000\n",
        "limit 10\n",
        ";"
      ],
      "metadata": {
        "id": "AAMkUyW6t9IR",
        "colab": {
          "base_uri": "https://localhost:8080/"
        },
        "outputId": "c19d124b-535c-4dc8-f9c9-2284854b43ec"
      },
      "execution_count": 25,
      "outputs": [
        {
          "output_type": "stream",
          "name": "stdout",
          "text": [
            "TrackId  Name                       AlbumId  MediaTypeId  GenreId  Composer                                                 Milliseconds  Bytes    UnitPrice\n",
            "-------  -------------------------  -------  -----------  -------  -------------------------------------------------------  ------------  -------  ---------\n",
            "112      Long Tall Sally            12       1            5        Enotris Johnson/Little Richard/Robert \"Bumps\" Blackwell  106396        1707084  0.99     \n",
            "113      Bad Boy                    12       1            5        Larry Williams                                           116088        1862126  0.99     \n",
            "121      Good Golly Miss Molly      12       1            5        Little Richard                                           106266        1704918  0.99     \n",
            "122      20 Flight Rock             12       1            5        Ned Fairchild                                            107807        1299960  0.99     \n",
            "166      Smoked Pork                18       1            4                                                                 47333         1549074  0.99     \n",
            "246      Mateus Enter               24       1            7        Chico Science                                            33149         1103013  0.99     \n",
            "975      Deixa Entrar               78       1            7                                                                 33619         1095012  0.99     \n",
            "1086     Casinha Feliz              85       1            10       Gilberto Gil                                             32287         1039615  0.99     \n",
            "1287     Intro- Churchill S Speech  102      1            13                                                                48013         1154488  0.99     \n",
            "1501     Hill of the Skull          121      2            1        J. Satriani                                              108435        1944738  0.99     \n"
          ]
        }
      ]
    },
    {
      "cell_type": "markdown",
      "source": [
        "#### LIMIT\n",
        "\n"
      ],
      "metadata": {
        "id": "3BqrCUPBtqpX"
      }
    },
    {
      "cell_type": "code",
      "source": [
        "%%script sqlite3 --column --header chinook.db\n",
        "SELECT *\n",
        "FROM invoices\n",
        "where total BETWEEN 5.00 and 10.00\n",
        "limit 10\n",
        ";"
      ],
      "metadata": {
        "id": "CixJguOYuw49",
        "colab": {
          "base_uri": "https://localhost:8080/"
        },
        "outputId": "b53735ee-2d50-4b4d-9f9a-34f72dd8b53b"
      },
      "execution_count": 26,
      "outputs": [
        {
          "output_type": "stream",
          "name": "stdout",
          "text": [
            "InvoiceId  CustomerId  InvoiceDate          BillingAddress             BillingCity  BillingState  BillingCountry  BillingPostalCode  Total\n",
            "---------  ----------  -------------------  -------------------------  -----------  ------------  --------------  -----------------  -----\n",
            "3          8           2009-01-03 00:00:00  Grétrystraat 63            Brussels                   Belgium         1000               5.94 \n",
            "4          14          2009-01-06 00:00:00  8210 111 ST NW             Edmonton     AB            Canada          T6G 2C7            8.91 \n",
            "10         46          2009-02-03 00:00:00  3 Chatham Street           Dublin       Dublin        Ireland                            5.94 \n",
            "11         52          2009-02-06 00:00:00  202 Hoxton Street          London                     United Kingdom  N1 5LH             8.91 \n",
            "17         25          2009-03-06 00:00:00  319 N. Frances Street      Madison      WI            USA             53703              5.94 \n",
            "18         31          2009-03-09 00:00:00  194A Chain Lake Drive      Halifax      NS            Canada          B3S 1C5            8.91 \n",
            "24         4           2009-04-06 00:00:00  Ullevålsveien 14           Oslo                       Norway          0171               5.94 \n",
            "25         10          2009-04-09 00:00:00  Rua Dr. Falcão Filho, 155  São Paulo    SP            Brazil          01007-010          8.91 \n",
            "31         42          2009-05-07 00:00:00  9, Place Louis Barthou     Bordeaux                   France          33000              5.94 \n",
            "32         48          2009-05-10 00:00:00  Lijnbaansgracht 120bg      Amsterdam    VV            Netherlands     1016               8.91 \n"
          ]
        }
      ]
    },
    {
      "cell_type": "markdown",
      "source": [
        "### Sorting and Grouping\n"
      ],
      "metadata": {
        "id": "a4DtPW7ytrU7"
      }
    },
    {
      "cell_type": "markdown",
      "source": [
        "#### ORDER BY\n"
      ],
      "metadata": {
        "id": "SneUyw4Xtr-U"
      }
    },
    {
      "cell_type": "code",
      "source": [
        "%%script sqlite3 --column --header chinook.db\n",
        "SELECT *\n",
        "FROM tracks\n",
        "WHERE bytes between 1000000 and 1500000\n",
        "ORDER BY bytes\n",
        "LIMIT 20\n",
        ";"
      ],
      "metadata": {
        "id": "29jQ-pBFt7uf",
        "colab": {
          "base_uri": "https://localhost:8080/"
        },
        "outputId": "b488c6f6-6b1a-4756-f541-db8b4247a4fb"
      },
      "execution_count": 27,
      "outputs": [
        {
          "output_type": "stream",
          "name": "stdout",
          "text": [
            "TrackId  Name                                                      AlbumId  MediaTypeId  GenreId  Composer                                                        Milliseconds  Bytes    UnitPrice\n",
            "-------  --------------------------------------------------------  -------  -----------  -------  --------------------------------------------------------------  ------------  -------  ---------\n",
            "1086     Casinha Feliz                                             85       1            10       Gilberto Gil                                                    32287         1039615  0.99     \n",
            "975      Deixa Entrar                                              78       1            7                                                                        33619         1095012  0.99     \n",
            "246      Mateus Enter                                              24       1            7        Chico Science                                                   33149         1103013  0.99     \n",
            "2797     Homem Primata (Vinheta)                                   224      1            4        Titãs                                                           34168         1124909  0.99     \n",
            "1287     Intro- Churchill S Speech                                 102      1            13                                                                       48013         1154488  0.99     \n",
            "3501     L'orfeo, Act 3, Sinfonia (Orchestra)                      345      2            24       Claudio Monteverdi                                              66639         1189062  0.99     \n",
            "3448     Lamentations of Jeremiah, First Set \\ Incipit Lamentatio  314      2            24       Thomas Tallis                                                   69194         1208080  0.99     \n",
            "2793     Cabeça Dinossauro                                         224      1            4        Titãs                                                           37120         1220930  0.99     \n",
            "2993     Freedom For My People                                     237      1            1        Mabins, Macie/Magee, Sterling/Robinson, Bobby                   38164         1249764  0.99     \n",
            "1968     Demorou!                                                  161      1            16       Mônica Marianno                                                 39131         1287083  0.99     \n",
            "122      20 Flight Rock                                            12       1            5        Ned Fairchild                                                   107807        1299960  0.99     \n",
            "1551     The Hellion                                               125      1            3                                                                        41900         1351993  0.99     \n",
            "3001     The Star Spangled Banner                                  237      1            1        Hendrix, Jimi                                                   43232         1385810  0.99     \n",
            "3059     Little Guitars (Intro)                                    242      1            1        Alex Van Halen/David Lee Roth/Edward Van Halen/Michael Anthony  42240         1439530  0.99     \n",
            "1761     Blanco                                                    145      1            7        Marisa Monte/poema de Octavio Paz/versão: Haroldo de Campos     45191         1454532  0.99     \n"
          ]
        }
      ]
    },
    {
      "cell_type": "markdown",
      "source": [
        "#### DISTINCT\n"
      ],
      "metadata": {
        "id": "Y22yRW5Wtsl1"
      }
    },
    {
      "cell_type": "code",
      "source": [
        "%%script sqlite3 --column --header chinook.db\n",
        "SELECT\n",
        "DISTINCT GenreId\n",
        "FROM tracks\n",
        ";"
      ],
      "metadata": {
        "id": "RGkf7Qh1t7Cm",
        "colab": {
          "base_uri": "https://localhost:8080/"
        },
        "outputId": "0a76e759-da7b-45b2-f939-d13ddffb49d6"
      },
      "execution_count": 28,
      "outputs": [
        {
          "output_type": "stream",
          "name": "stdout",
          "text": [
            "GenreId\n",
            "-------\n",
            "1      \n",
            "2      \n",
            "3      \n",
            "4      \n",
            "5      \n",
            "6      \n",
            "7      \n",
            "8      \n",
            "9      \n",
            "10     \n",
            "11     \n",
            "12     \n",
            "13     \n",
            "14     \n",
            "15     \n",
            "16     \n",
            "17     \n",
            "18     \n",
            "19     \n",
            "20     \n",
            "21     \n",
            "22     \n",
            "23     \n",
            "24     \n",
            "25     \n"
          ]
        }
      ]
    },
    {
      "cell_type": "markdown",
      "source": [
        "#### GROUP BY\n",
        "\n"
      ],
      "metadata": {
        "id": "Q0mwAOgettPz"
      }
    },
    {
      "cell_type": "code",
      "source": [
        "%%script sqlite3 --column --header chinook.db\n",
        "SELECT GenreId, MAX(Milliseconds)/1000/60 as max_time_min\n",
        "FROM tracks\n",
        "GROUP BY GenreId\n",
        ";"
      ],
      "metadata": {
        "id": "8cv2_l-Lt6Wv",
        "colab": {
          "base_uri": "https://localhost:8080/"
        },
        "outputId": "9d0b5e6a-3cb5-4bbb-b98b-4c18072519ff"
      },
      "execution_count": 40,
      "outputs": [
        {
          "output_type": "stream",
          "name": "stdout",
          "text": [
            "GenreId  max_time_min\n",
            "-------  ------------\n",
            "1        26          \n",
            "2        15          \n",
            "3        13          \n",
            "4        9           \n",
            "5        2           \n",
            "6        9           \n",
            "7        9           \n",
            "8        6           \n",
            "9        11          \n",
            "10       6           \n",
            "11       6           \n",
            "12       4           \n",
            "13       8           \n",
            "14       6           \n",
            "15       8           \n",
            "16       5           \n",
            "17       6           \n",
            "18       45          \n",
            "19       88          \n",
            "20       49          \n",
            "21       84          \n",
            "22       42          \n",
            "23       11          \n",
            "24       9           \n",
            "25       2           \n"
          ]
        }
      ]
    },
    {
      "cell_type": "markdown",
      "source": [
        "### Aggregates\n"
      ],
      "metadata": {
        "id": "dJUO6Dh3tt5c"
      }
    },
    {
      "cell_type": "markdown",
      "source": [
        "#### MAX\n"
      ],
      "metadata": {
        "id": "spacz18MtvBo"
      }
    },
    {
      "cell_type": "code",
      "source": [
        "%%script sqlite3 --column --header chinook.db\n",
        "SELECT MAX(Total) as Max_Total\n",
        "FROM invoices\n",
        ";"
      ],
      "metadata": {
        "id": "e8Ke_lJKt2VQ",
        "colab": {
          "base_uri": "https://localhost:8080/"
        },
        "outputId": "bcf42f0b-d7d7-450b-a306-0fb413c5cafd"
      },
      "execution_count": 47,
      "outputs": [
        {
          "output_type": "stream",
          "name": "stdout",
          "text": [
            "Max_Total\n",
            "---------\n",
            "25.86    \n"
          ]
        }
      ]
    },
    {
      "cell_type": "markdown",
      "source": [
        "#### MIN\n"
      ],
      "metadata": {
        "id": "V0z33BTztvoP"
      }
    },
    {
      "cell_type": "code",
      "source": [
        "%%script sqlite3 --column --header chinook.db\n",
        "SELECT MIN(Total)\n",
        "FROM invoices\n",
        ";"
      ],
      "metadata": {
        "id": "ishdZ9K3t1fh"
      },
      "execution_count": null,
      "outputs": []
    },
    {
      "cell_type": "markdown",
      "source": [
        "#### SUM\n"
      ],
      "metadata": {
        "id": "nLYsB9M8twMf"
      }
    },
    {
      "cell_type": "code",
      "source": [
        "%%script sqlite3 --column --header chinook.db\n",
        "SELECT SUM(Total)\n",
        "FROM invoices\n",
        ";"
      ],
      "metadata": {
        "id": "aoVDwom0t0zN"
      },
      "execution_count": null,
      "outputs": []
    },
    {
      "cell_type": "markdown",
      "source": [
        "#### AVG\n"
      ],
      "metadata": {
        "id": "0yI5K0Z5twwB"
      }
    },
    {
      "cell_type": "code",
      "source": [
        "%%script sqlite3 --column --header chinook.db\n",
        "SELECT AVG(Total)\n",
        "FROM invoices\n",
        ";"
      ],
      "metadata": {
        "id": "HkNbzJ4mtzgD"
      },
      "execution_count": null,
      "outputs": []
    },
    {
      "cell_type": "markdown",
      "source": [
        "#### COUNT\n",
        "\n"
      ],
      "metadata": {
        "id": "JEkDbYyutxX5"
      }
    },
    {
      "cell_type": "code",
      "source": [
        "%%script sqlite3 --column --header chinook.db\n",
        " select Title, COUNT(Title) as title_count\n",
        "  from employees\n",
        "  GROUP BY Title"
      ],
      "metadata": {
        "id": "NMrvo0jE6LL9"
      },
      "execution_count": null,
      "outputs": []
    },
    {
      "cell_type": "markdown",
      "source": [
        "## Make some plots\n",
        "\n",
        "Make some cool plots to go with your data. Write SQL queries to get ONLY the information you need for each plot. (Don't pull ALL the data and then just plot a few columns.)\n",
        "\n"
      ],
      "metadata": {
        "id": "ntL8dHJT57K8"
      }
    },
    {
      "cell_type": "code",
      "source": [
        "query = '''\n",
        "  select Title, COUNT(Title) as title_count\n",
        "  from employees\n",
        "  GROUP BY Title\n",
        "'''\n",
        "with db.connect(\"chinook.db\") as db_con:\n",
        "  employees = pd.read_sql_query( query , db_con).sort_values(\"title_count\")\n",
        "# employees = employees.sort_values(\"title_count\")\n",
        "\n",
        "employees"
      ],
      "metadata": {
        "id": "SZXIuqBX6L50",
        "colab": {
          "base_uri": "https://localhost:8080/",
          "height": 206
        },
        "outputId": "32ac5a8b-a040-468c-888b-f4ad55161b18"
      },
      "execution_count": 48,
      "outputs": [
        {
          "output_type": "execute_result",
          "data": {
            "text/plain": [
              "                 Title  title_count\n",
              "0      General Manager            1\n",
              "1           IT Manager            1\n",
              "3        Sales Manager            1\n",
              "2             IT Staff            2\n",
              "4  Sales Support Agent            3"
            ],
            "text/html": [
              "\n",
              "  <div id=\"df-66ba3b37-2976-4e80-b658-d0856c3b7540\" class=\"colab-df-container\">\n",
              "    <div>\n",
              "<style scoped>\n",
              "    .dataframe tbody tr th:only-of-type {\n",
              "        vertical-align: middle;\n",
              "    }\n",
              "\n",
              "    .dataframe tbody tr th {\n",
              "        vertical-align: top;\n",
              "    }\n",
              "\n",
              "    .dataframe thead th {\n",
              "        text-align: right;\n",
              "    }\n",
              "</style>\n",
              "<table border=\"1\" class=\"dataframe\">\n",
              "  <thead>\n",
              "    <tr style=\"text-align: right;\">\n",
              "      <th></th>\n",
              "      <th>Title</th>\n",
              "      <th>title_count</th>\n",
              "    </tr>\n",
              "  </thead>\n",
              "  <tbody>\n",
              "    <tr>\n",
              "      <th>0</th>\n",
              "      <td>General Manager</td>\n",
              "      <td>1</td>\n",
              "    </tr>\n",
              "    <tr>\n",
              "      <th>1</th>\n",
              "      <td>IT Manager</td>\n",
              "      <td>1</td>\n",
              "    </tr>\n",
              "    <tr>\n",
              "      <th>3</th>\n",
              "      <td>Sales Manager</td>\n",
              "      <td>1</td>\n",
              "    </tr>\n",
              "    <tr>\n",
              "      <th>2</th>\n",
              "      <td>IT Staff</td>\n",
              "      <td>2</td>\n",
              "    </tr>\n",
              "    <tr>\n",
              "      <th>4</th>\n",
              "      <td>Sales Support Agent</td>\n",
              "      <td>3</td>\n",
              "    </tr>\n",
              "  </tbody>\n",
              "</table>\n",
              "</div>\n",
              "    <div class=\"colab-df-buttons\">\n",
              "\n",
              "  <div class=\"colab-df-container\">\n",
              "    <button class=\"colab-df-convert\" onclick=\"convertToInteractive('df-66ba3b37-2976-4e80-b658-d0856c3b7540')\"\n",
              "            title=\"Convert this dataframe to an interactive table.\"\n",
              "            style=\"display:none;\">\n",
              "\n",
              "  <svg xmlns=\"http://www.w3.org/2000/svg\" height=\"24px\" viewBox=\"0 -960 960 960\">\n",
              "    <path d=\"M120-120v-720h720v720H120Zm60-500h600v-160H180v160Zm220 220h160v-160H400v160Zm0 220h160v-160H400v160ZM180-400h160v-160H180v160Zm440 0h160v-160H620v160ZM180-180h160v-160H180v160Zm440 0h160v-160H620v160Z\"/>\n",
              "  </svg>\n",
              "    </button>\n",
              "\n",
              "  <style>\n",
              "    .colab-df-container {\n",
              "      display:flex;\n",
              "      gap: 12px;\n",
              "    }\n",
              "\n",
              "    .colab-df-convert {\n",
              "      background-color: #E8F0FE;\n",
              "      border: none;\n",
              "      border-radius: 50%;\n",
              "      cursor: pointer;\n",
              "      display: none;\n",
              "      fill: #1967D2;\n",
              "      height: 32px;\n",
              "      padding: 0 0 0 0;\n",
              "      width: 32px;\n",
              "    }\n",
              "\n",
              "    .colab-df-convert:hover {\n",
              "      background-color: #E2EBFA;\n",
              "      box-shadow: 0px 1px 2px rgba(60, 64, 67, 0.3), 0px 1px 3px 1px rgba(60, 64, 67, 0.15);\n",
              "      fill: #174EA6;\n",
              "    }\n",
              "\n",
              "    .colab-df-buttons div {\n",
              "      margin-bottom: 4px;\n",
              "    }\n",
              "\n",
              "    [theme=dark] .colab-df-convert {\n",
              "      background-color: #3B4455;\n",
              "      fill: #D2E3FC;\n",
              "    }\n",
              "\n",
              "    [theme=dark] .colab-df-convert:hover {\n",
              "      background-color: #434B5C;\n",
              "      box-shadow: 0px 1px 3px 1px rgba(0, 0, 0, 0.15);\n",
              "      filter: drop-shadow(0px 1px 2px rgba(0, 0, 0, 0.3));\n",
              "      fill: #FFFFFF;\n",
              "    }\n",
              "  </style>\n",
              "\n",
              "    <script>\n",
              "      const buttonEl =\n",
              "        document.querySelector('#df-66ba3b37-2976-4e80-b658-d0856c3b7540 button.colab-df-convert');\n",
              "      buttonEl.style.display =\n",
              "        google.colab.kernel.accessAllowed ? 'block' : 'none';\n",
              "\n",
              "      async function convertToInteractive(key) {\n",
              "        const element = document.querySelector('#df-66ba3b37-2976-4e80-b658-d0856c3b7540');\n",
              "        const dataTable =\n",
              "          await google.colab.kernel.invokeFunction('convertToInteractive',\n",
              "                                                    [key], {});\n",
              "        if (!dataTable) return;\n",
              "\n",
              "        const docLinkHtml = 'Like what you see? Visit the ' +\n",
              "          '<a target=\"_blank\" href=https://colab.research.google.com/notebooks/data_table.ipynb>data table notebook</a>'\n",
              "          + ' to learn more about interactive tables.';\n",
              "        element.innerHTML = '';\n",
              "        dataTable['output_type'] = 'display_data';\n",
              "        await google.colab.output.renderOutput(dataTable, element);\n",
              "        const docLink = document.createElement('div');\n",
              "        docLink.innerHTML = docLinkHtml;\n",
              "        element.appendChild(docLink);\n",
              "      }\n",
              "    </script>\n",
              "  </div>\n",
              "\n",
              "\n",
              "    <div id=\"df-99da6b4f-b1cc-480d-95f4-030eab9d0a6a\">\n",
              "      <button class=\"colab-df-quickchart\" onclick=\"quickchart('df-99da6b4f-b1cc-480d-95f4-030eab9d0a6a')\"\n",
              "                title=\"Suggest charts\"\n",
              "                style=\"display:none;\">\n",
              "\n",
              "<svg xmlns=\"http://www.w3.org/2000/svg\" height=\"24px\"viewBox=\"0 0 24 24\"\n",
              "     width=\"24px\">\n",
              "    <g>\n",
              "        <path d=\"M19 3H5c-1.1 0-2 .9-2 2v14c0 1.1.9 2 2 2h14c1.1 0 2-.9 2-2V5c0-1.1-.9-2-2-2zM9 17H7v-7h2v7zm4 0h-2V7h2v10zm4 0h-2v-4h2v4z\"/>\n",
              "    </g>\n",
              "</svg>\n",
              "      </button>\n",
              "\n",
              "<style>\n",
              "  .colab-df-quickchart {\n",
              "      --bg-color: #E8F0FE;\n",
              "      --fill-color: #1967D2;\n",
              "      --hover-bg-color: #E2EBFA;\n",
              "      --hover-fill-color: #174EA6;\n",
              "      --disabled-fill-color: #AAA;\n",
              "      --disabled-bg-color: #DDD;\n",
              "  }\n",
              "\n",
              "  [theme=dark] .colab-df-quickchart {\n",
              "      --bg-color: #3B4455;\n",
              "      --fill-color: #D2E3FC;\n",
              "      --hover-bg-color: #434B5C;\n",
              "      --hover-fill-color: #FFFFFF;\n",
              "      --disabled-bg-color: #3B4455;\n",
              "      --disabled-fill-color: #666;\n",
              "  }\n",
              "\n",
              "  .colab-df-quickchart {\n",
              "    background-color: var(--bg-color);\n",
              "    border: none;\n",
              "    border-radius: 50%;\n",
              "    cursor: pointer;\n",
              "    display: none;\n",
              "    fill: var(--fill-color);\n",
              "    height: 32px;\n",
              "    padding: 0;\n",
              "    width: 32px;\n",
              "  }\n",
              "\n",
              "  .colab-df-quickchart:hover {\n",
              "    background-color: var(--hover-bg-color);\n",
              "    box-shadow: 0 1px 2px rgba(60, 64, 67, 0.3), 0 1px 3px 1px rgba(60, 64, 67, 0.15);\n",
              "    fill: var(--button-hover-fill-color);\n",
              "  }\n",
              "\n",
              "  .colab-df-quickchart-complete:disabled,\n",
              "  .colab-df-quickchart-complete:disabled:hover {\n",
              "    background-color: var(--disabled-bg-color);\n",
              "    fill: var(--disabled-fill-color);\n",
              "    box-shadow: none;\n",
              "  }\n",
              "\n",
              "  .colab-df-spinner {\n",
              "    border: 2px solid var(--fill-color);\n",
              "    border-color: transparent;\n",
              "    border-bottom-color: var(--fill-color);\n",
              "    animation:\n",
              "      spin 1s steps(1) infinite;\n",
              "  }\n",
              "\n",
              "  @keyframes spin {\n",
              "    0% {\n",
              "      border-color: transparent;\n",
              "      border-bottom-color: var(--fill-color);\n",
              "      border-left-color: var(--fill-color);\n",
              "    }\n",
              "    20% {\n",
              "      border-color: transparent;\n",
              "      border-left-color: var(--fill-color);\n",
              "      border-top-color: var(--fill-color);\n",
              "    }\n",
              "    30% {\n",
              "      border-color: transparent;\n",
              "      border-left-color: var(--fill-color);\n",
              "      border-top-color: var(--fill-color);\n",
              "      border-right-color: var(--fill-color);\n",
              "    }\n",
              "    40% {\n",
              "      border-color: transparent;\n",
              "      border-right-color: var(--fill-color);\n",
              "      border-top-color: var(--fill-color);\n",
              "    }\n",
              "    60% {\n",
              "      border-color: transparent;\n",
              "      border-right-color: var(--fill-color);\n",
              "    }\n",
              "    80% {\n",
              "      border-color: transparent;\n",
              "      border-right-color: var(--fill-color);\n",
              "      border-bottom-color: var(--fill-color);\n",
              "    }\n",
              "    90% {\n",
              "      border-color: transparent;\n",
              "      border-bottom-color: var(--fill-color);\n",
              "    }\n",
              "  }\n",
              "</style>\n",
              "\n",
              "      <script>\n",
              "        async function quickchart(key) {\n",
              "          const quickchartButtonEl =\n",
              "            document.querySelector('#' + key + ' button');\n",
              "          quickchartButtonEl.disabled = true;  // To prevent multiple clicks.\n",
              "          quickchartButtonEl.classList.add('colab-df-spinner');\n",
              "          try {\n",
              "            const charts = await google.colab.kernel.invokeFunction(\n",
              "                'suggestCharts', [key], {});\n",
              "          } catch (error) {\n",
              "            console.error('Error during call to suggestCharts:', error);\n",
              "          }\n",
              "          quickchartButtonEl.classList.remove('colab-df-spinner');\n",
              "          quickchartButtonEl.classList.add('colab-df-quickchart-complete');\n",
              "        }\n",
              "        (() => {\n",
              "          let quickchartButtonEl =\n",
              "            document.querySelector('#df-99da6b4f-b1cc-480d-95f4-030eab9d0a6a button');\n",
              "          quickchartButtonEl.style.display =\n",
              "            google.colab.kernel.accessAllowed ? 'block' : 'none';\n",
              "        })();\n",
              "      </script>\n",
              "    </div>\n",
              "\n",
              "  <div id=\"id_1e614f3e-0081-44c1-a5ae-d1a0c78d6c1b\">\n",
              "    <style>\n",
              "      .colab-df-generate {\n",
              "        background-color: #E8F0FE;\n",
              "        border: none;\n",
              "        border-radius: 50%;\n",
              "        cursor: pointer;\n",
              "        display: none;\n",
              "        fill: #1967D2;\n",
              "        height: 32px;\n",
              "        padding: 0 0 0 0;\n",
              "        width: 32px;\n",
              "      }\n",
              "\n",
              "      .colab-df-generate:hover {\n",
              "        background-color: #E2EBFA;\n",
              "        box-shadow: 0px 1px 2px rgba(60, 64, 67, 0.3), 0px 1px 3px 1px rgba(60, 64, 67, 0.15);\n",
              "        fill: #174EA6;\n",
              "      }\n",
              "\n",
              "      [theme=dark] .colab-df-generate {\n",
              "        background-color: #3B4455;\n",
              "        fill: #D2E3FC;\n",
              "      }\n",
              "\n",
              "      [theme=dark] .colab-df-generate:hover {\n",
              "        background-color: #434B5C;\n",
              "        box-shadow: 0px 1px 3px 1px rgba(0, 0, 0, 0.15);\n",
              "        filter: drop-shadow(0px 1px 2px rgba(0, 0, 0, 0.3));\n",
              "        fill: #FFFFFF;\n",
              "      }\n",
              "    </style>\n",
              "    <button class=\"colab-df-generate\" onclick=\"generateWithVariable('employees')\"\n",
              "            title=\"Generate code using this dataframe.\"\n",
              "            style=\"display:none;\">\n",
              "\n",
              "  <svg xmlns=\"http://www.w3.org/2000/svg\" height=\"24px\"viewBox=\"0 0 24 24\"\n",
              "       width=\"24px\">\n",
              "    <path d=\"M7,19H8.4L18.45,9,17,7.55,7,17.6ZM5,21V16.75L18.45,3.32a2,2,0,0,1,2.83,0l1.4,1.43a1.91,1.91,0,0,1,.58,1.4,1.91,1.91,0,0,1-.58,1.4L9.25,21ZM18.45,9,17,7.55Zm-12,3A5.31,5.31,0,0,0,4.9,8.1,5.31,5.31,0,0,0,1,6.5,5.31,5.31,0,0,0,4.9,4.9,5.31,5.31,0,0,0,6.5,1,5.31,5.31,0,0,0,8.1,4.9,5.31,5.31,0,0,0,12,6.5,5.46,5.46,0,0,0,6.5,12Z\"/>\n",
              "  </svg>\n",
              "    </button>\n",
              "    <script>\n",
              "      (() => {\n",
              "      const buttonEl =\n",
              "        document.querySelector('#id_1e614f3e-0081-44c1-a5ae-d1a0c78d6c1b button.colab-df-generate');\n",
              "      buttonEl.style.display =\n",
              "        google.colab.kernel.accessAllowed ? 'block' : 'none';\n",
              "\n",
              "      buttonEl.onclick = () => {\n",
              "        google.colab.notebook.generateWithVariable('employees');\n",
              "      }\n",
              "      })();\n",
              "    </script>\n",
              "  </div>\n",
              "\n",
              "    </div>\n",
              "  </div>\n"
            ],
            "application/vnd.google.colaboratory.intrinsic+json": {
              "type": "dataframe",
              "variable_name": "employees",
              "summary": "{\n  \"name\": \"employees\",\n  \"rows\": 5,\n  \"fields\": [\n    {\n      \"column\": \"Title\",\n      \"properties\": {\n        \"dtype\": \"string\",\n        \"num_unique_values\": 5,\n        \"samples\": [\n          \"IT Manager\",\n          \"Sales Support Agent\",\n          \"Sales Manager\"\n        ],\n        \"semantic_type\": \"\",\n        \"description\": \"\"\n      }\n    },\n    {\n      \"column\": \"title_count\",\n      \"properties\": {\n        \"dtype\": \"number\",\n        \"std\": 0,\n        \"min\": 1,\n        \"max\": 3,\n        \"num_unique_values\": 3,\n        \"samples\": [\n          1,\n          2,\n          3\n        ],\n        \"semantic_type\": \"\",\n        \"description\": \"\"\n      }\n    }\n  ]\n}"
            }
          },
          "metadata": {},
          "execution_count": 48
        }
      ]
    },
    {
      "cell_type": "code",
      "source": [
        "plt.figure(figsize=(10, 6));\n",
        "plt.bar(employees[\"Title\"], employees[\"title_count\"], color=\"skyblue\");\n",
        "\n",
        "plt.xlabel('Employee Title', fontsize=12, weight='bold');\n",
        "plt.ylabel('Number of Employees', fontsize=12, weight='bold');\n",
        "plt.title('Distribution of Employee Titles', fontsize=14, weight='bold');\n",
        "plt.xticks(rotation=45, ha='right');\n",
        "plt.tight_layout();\n",
        "\n",
        "plt.savefig(\"dist_employee.png\");\n",
        "plt.show();"
      ],
      "metadata": {
        "colab": {
          "base_uri": "https://localhost:8080/",
          "height": 607
        },
        "id": "PdFegdTORLXw",
        "outputId": "e899768e-337c-441b-b405-b71435714228"
      },
      "execution_count": 49,
      "outputs": [
        {
          "output_type": "display_data",
          "data": {
            "text/plain": [
              "<Figure size 1000x600 with 1 Axes>"
            ],
            "image/png": "[encoded data removed]"
          },
          "metadata": {}
        }
      ]
    },
    {
      "cell_type": "markdown",
      "source": [
        "## EXTRA CREDIT:\n",
        "* Use a CTE\n",
        "* Use a query that joins two or more tables.\n",
        "* Make a model to see if you can predict something\n",
        "* Come up with something else cool to do with your data\n"
      ],
      "metadata": {
        "id": "H6QrBn3n58mU"
      }
    },
    {
      "cell_type": "code",
      "source": [
        "# Grab count of GenreId from Tracks and Join with Genre name by GenreId\n",
        "query = '''\n",
        "  select GenreId, COUNT(GenreId) as genreid_count\n",
        "  from tracks\n",
        "  GROUP BY GenreId ORDER BY GenreId DESC\n",
        "'''\n",
        "with db.connect(\"chinook.db\") as db_con:\n",
        "  gen = pd.read_sql_query( query , db_con).sort_values(\"genreid_count\")\n",
        "\n",
        "\n",
        "gen"
      ],
      "metadata": {
        "id": "yYeMUw5LV4fe"
      },
      "execution_count": null,
      "outputs": []
    },
    {
      "cell_type": "code",
      "source": [
        "# Closes the connection\n",
        "db_con.close()"
      ],
      "metadata": {
        "id": "IE70jrAiIaZ8"
      },
      "execution_count": null,
      "outputs": []
    },
    {
      "cell_type": "markdown",
      "source": [
        "#### Model Ideas\n",
        "- Regression Models: Predict total sales based on features like genre popularity, artist fame, release date"
      ],
      "metadata": {
        "id": "Xyy7KMNGY8sn"
      }
    },
    {
      "cell_type": "markdown",
      "source": [
        "## Notes/Ref\n",
        "- [2D](https://colab.research.google.com/drive/1SLqymfmc4SrgD7NJTFgJM-f9fQ0kLO0-)\n",
        "- [2f](https://colab.research.google.com/drive/1enk9f0gVMmUG8e467elDVa7BWsrbWcN8#scrollTo=4BMzqqUncjUr)\n",
        "\n",
        "The [Chinook sample](https://www.sqlitetutorial.net/sqlite-sample-database/)\n",
        "\n",
        "- Zip file of [sqlite DB](https://www.sqlitetutorial.net/wp-content/uploads/2018/03/chinook.zip)\n",
        "\n",
        "- [ER diagram](https://www.sqlitetutorial.net/wp-content/uploads/2018/03/sqlite-sample-database-diagram-color.pdf)\n",
        "\n",
        "- [ER symbols/meanings](https://d2slcw3kip6qmk.cloudfront.net/marketing/pages/chart/erd-symbols/ERD-Notation.PNG)\n",
        "\n",
        "- [Draw IO](https://app.diagrams.net/) for creating ER diagrams, flowcharts, etc."
      ],
      "metadata": {
        "id": "3LNsWJaWPIrC"
      }
    },
    {
      "cell_type": "code",
      "source": [],
      "metadata": {
        "id": "M5ynnCvxPUEj"
      },
      "execution_count": null,
      "outputs": []
    }
  ]
}